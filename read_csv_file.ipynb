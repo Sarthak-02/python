{
 "cells": [
  {
   "cell_type": "code",
   "execution_count": 1,
   "metadata": {
    "collapsed": true
   },
   "outputs": [],
   "source": [
    "import pandas as pd"
   ]
  },
  {
   "cell_type": "code",
   "execution_count": 2,
   "metadata": {},
   "outputs": [],
   "source": [
    "df = pd.read_csv('DIM_TEAM.csv',sep=',')\n",
    "#data = pd.read_csv('DIM_PLAYER.csv', error_bad_lines=False)\n"
   ]
  },
  {
   "cell_type": "code",
   "execution_count": 3,
   "metadata": {},
   "outputs": [
    {
     "name": "stdout",
     "output_type": "stream",
     "text": [
      "    Team_SK  Team_Id                    Team_Name\n",
      "0         0        1        Kolkata Knight Riders\n",
      "1         1        2  Royal Challengers Bangalore\n",
      "2         2        3          Chennai Super Kings\n",
      "3         3        4              Kings XI Punjab\n",
      "4         4        5             Rajasthan Royals\n",
      "5         5        6             Delhi Daredevils\n",
      "6         6        7               Mumbai Indians\n",
      "7         7        8              Deccan Chargers\n",
      "8         8        9         Kochi Tuskers Kerala\n",
      "9         9       10                Pune Warriors\n",
      "10       10       11          Sunrisers Hyderabad\n",
      "11       11       12      Rising Pune Supergiants\n",
      "12       12       13                Gujarat Lions\n"
     ]
    }
   ],
   "source": [
    "print(df)"
   ]
  },
  {
   "cell_type": "code",
   "execution_count": 4,
   "metadata": {},
   "outputs": [
    {
     "data": {
      "text/plain": [
       "0      0\n",
       "1      1\n",
       "2      2\n",
       "3      3\n",
       "4      4\n",
       "5      5\n",
       "6      6\n",
       "7      7\n",
       "8      8\n",
       "9      9\n",
       "10    10\n",
       "11    11\n",
       "12    12\n",
       "Name: Team_SK, dtype: int64"
      ]
     },
     "execution_count": 4,
     "metadata": {},
     "output_type": "execute_result"
    }
   ],
   "source": [
    "df['Team_SK']"
   ]
  },
  {
   "cell_type": "code",
   "execution_count": 5,
   "metadata": {},
   "outputs": [
    {
     "data": {
      "text/plain": [
       "0      1\n",
       "1      2\n",
       "2      3\n",
       "3      4\n",
       "4      5\n",
       "5      6\n",
       "6      7\n",
       "7      8\n",
       "8      9\n",
       "9     10\n",
       "10    11\n",
       "11    12\n",
       "12    13\n",
       "Name: Team_Id, dtype: int64"
      ]
     },
     "execution_count": 5,
     "metadata": {},
     "output_type": "execute_result"
    }
   ],
   "source": [
    "df['Team_Id']"
   ]
  },
  {
   "cell_type": "code",
   "execution_count": 6,
   "metadata": {},
   "outputs": [
    {
     "data": {
      "text/plain": [
       "0           Kolkata Knight Riders\n",
       "1     Royal Challengers Bangalore\n",
       "2             Chennai Super Kings\n",
       "3                 Kings XI Punjab\n",
       "4                Rajasthan Royals\n",
       "5                Delhi Daredevils\n",
       "6                  Mumbai Indians\n",
       "7                 Deccan Chargers\n",
       "8            Kochi Tuskers Kerala\n",
       "9                   Pune Warriors\n",
       "10            Sunrisers Hyderabad\n",
       "11        Rising Pune Supergiants\n",
       "12                  Gujarat Lions\n",
       "Name: Team_Name, dtype: object"
      ]
     },
     "execution_count": 6,
     "metadata": {},
     "output_type": "execute_result"
    }
   ],
   "source": [
    "df['Team_Name']"
   ]
  },
  {
   "cell_type": "code",
   "execution_count": null,
   "metadata": {
    "collapsed": true
   },
   "outputs": [],
   "source": []
  }
 ],
 "metadata": {
  "kernelspec": {
   "display_name": "Python 3",
   "language": "python",
   "name": "python3"
  },
  "language_info": {
   "codemirror_mode": {
    "name": "ipython",
    "version": 3
   },
   "file_extension": ".py",
   "mimetype": "text/x-python",
   "name": "python",
   "nbconvert_exporter": "python",
   "pygments_lexer": "ipython3",
   "version": "3.6.1"
  }
 },
 "nbformat": 4,
 "nbformat_minor": 2
}
