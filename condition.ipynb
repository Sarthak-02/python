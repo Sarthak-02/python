{
 "cells": [
  {
   "cell_type": "code",
   "execution_count": 1,
   "metadata": {},
   "outputs": [
    {
     "name": "stdout",
     "output_type": "stream",
     "text": [
      "What is your CGPA? 7\n"
     ]
    }
   ],
   "source": [
    "grades = int(input(\"What is your CGPA? \"))"
   ]
  },
  {
   "cell_type": "code",
   "execution_count": 2,
   "metadata": {},
   "outputs": [
    {
     "name": "stdout",
     "output_type": "stream",
     "text": [
      "work little hard\n"
     ]
    }
   ],
   "source": [
    "if grades < 8:\n",
    "    print(\"work little hard\")\n",
    "else :\n",
    "    print(\"more than enough\")"
   ]
  },
  {
   "cell_type": "code",
   "execution_count": 3,
   "metadata": {},
   "outputs": [
    {
     "name": "stdout",
     "output_type": "stream",
     "text": [
      "B+\n"
     ]
    }
   ],
   "source": [
    "if grades >= 9 :\n",
    "    print(\"A+\")\n",
    "elif grades >=8:\n",
    "    print(\"A\")\n",
    "elif grades >=7:\n",
    "    print(\"B+\")\n",
    "else:\n",
    "    print(\"Who cares\")"
   ]
  },
  {
   "cell_type": "code",
   "execution_count": null,
   "metadata": {
    "collapsed": true
   },
   "outputs": [],
   "source": []
  }
 ],
 "metadata": {
  "kernelspec": {
   "display_name": "Python 3",
   "language": "python",
   "name": "python3"
  },
  "language_info": {
   "codemirror_mode": {
    "name": "ipython",
    "version": 3
   },
   "file_extension": ".py",
   "mimetype": "text/x-python",
   "name": "python",
   "nbconvert_exporter": "python",
   "pygments_lexer": "ipython3",
   "version": "3.6.1"
  }
 },
 "nbformat": 4,
 "nbformat_minor": 2
}
